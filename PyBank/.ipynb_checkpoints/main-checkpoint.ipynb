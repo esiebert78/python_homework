{
 "cells": [
  {
   "cell_type": "code",
   "execution_count": 550,
   "metadata": {},
   "outputs": [],
   "source": [
    "# HW2: Intro to Python -- Eric Siebert -- Rice FinTech Bootcamp\n",
    "    # Create a Python script that analyzes the records to calculate each of the following:\n",
    "    # The total number of months included in the dataset.\n",
    "    # The net total amount of Profit/Losses over the entire period.\n",
    "    # The average of the changes in Profit/Losses over the entire period.\n",
    "    # The greatest increase in profits (date and amount) over the entire period.\n",
    "    # The greatest decrease in losses (date and amount) over the entire period."
   ]
  },
  {
   "cell_type": "code",
   "execution_count": 551,
   "metadata": {},
   "outputs": [],
   "source": [
    "# Import required libraries\n",
    "from pathlib import Path\n",
    "import csv"
   ]
  },
  {
   "cell_type": "code",
   "execution_count": 552,
   "metadata": {},
   "outputs": [],
   "source": [
    "# Create a filepath using variable 'bdpath' to the source data\n",
    "bd_path = Path(\"budget_data.csv\")\n",
    "\n",
    "# Initialize variables used in analysis\n",
    "tot = 0\n",
    "cnt = 0\n",
    "avg = 0\n",
    "maxinc = 0\n",
    "maxdec = 0\n",
    "rev_delta = []\n",
    "date = []\n",
    "rev = []\n",
    "    # Challenge was that I wanted to complete all activities with a single list 'date_rev' but could not...\n",
    "        # date_rev = []"
   ]
  },
  {
   "cell_type": "code",
   "execution_count": 553,
   "metadata": {},
   "outputs": [
    {
     "name": "stdout",
     "output_type": "stream",
     "text": [
      "\n",
      "-----Summary Statistics-----\n",
      "Number of months: 86\n",
      "Total P&L, all months: 38382578\n",
      "Average monthly P&L: 446309.05\n",
      "Largest monthly increase: Feb-2012, 1926159\n",
      "Largest monthly decrease: Sep-2013, -2196167\n"
     ]
    }
   ],
   "source": [
    "# 1) Open file (as 'r') at dedicated filepath 'bd_path' & initiate variable 'bd_file' for opened file\n",
    "# 2) Initiate variable bd_read (as comma delimited) to loop through the file\n",
    "# 3) Initiate variable 'bd_header' & syntax to skip first line\n",
    "# 4) Initiate variable 'row' to loop (for) through all rows after the header 'bd_header'\n",
    "# 5) Create a list for months 'date' and a list for P&L 'rev' to store data\n",
    "# 6) Calculate the total P&L with variable 'tot'\n",
    "# 7) Calculate the number of months with variable 'cnt'\n",
    "# 8) Calculate monthly change and create list 'rev_delta' to store data; \n",
    "# 9) Change initial 'rev_delta' to 0, as the first month should not compare to last month & calculate\n",
    "# 10) Logic to determine largest increase 'maxinc' and decrease 'maxdec' and calculation for average 'avg'\n",
    "# 11) Print summary statistics to validate correct results, \n",
    "# 12) W'in summay, identified the month of largest increase/decrease through index position\n",
    "\n",
    "with open(bd_path, 'r') as bd_file:\n",
    "    bd_read = csv.reader(bd_file, delimiter = ',')\n",
    "    bd_header = next(bd_read)\n",
    "\n",
    "    for row in bd_readlist:\n",
    "        date.append(row[0])\n",
    "        rev.append(row[1])\n",
    "        \n",
    "    for value in rev:\n",
    "        tot += int(value)\n",
    "\n",
    "    for month in date:\n",
    "        cnt += 1\n",
    "    \n",
    "    for value in range(len(rev)):\n",
    "        rev_delta.append(int(rev[value]) - int(rev[value - 1]))\n",
    "        rev_delta[0] = 0\n",
    "\n",
    "    for value in rev_delta:\n",
    "        if value == 0:\n",
    "            maxdec = value\n",
    "        elif value < maxdec:\n",
    "            maxdec = value\n",
    "        elif value > maxinc:\n",
    "            maxinc = value\n",
    "    \n",
    "    avg = tot / cnt\n",
    "\n",
    "# Visualization of variables & values - used when creating, not needed for summary output\n",
    "    #print(range(len(rev)))    \n",
    "    #print(rev_delta.index(maxdec))\n",
    "    #print(rev_delta.index(maxinc))\n",
    "    #print(date[rev_delta.index(maxinc)])\n",
    "    #print(date[rev_delta.index(maxdec)])\n",
    "print()\n",
    "print(\"-----Summary Statistics-----\")\n",
    "print(f\"Number of months: {cnt}\")\n",
    "print(f\"Total P&L, all months: {tot}\")\n",
    "print(f\"Average monthly P&L: {round(avg,2)}\")\n",
    "print(f\"Largest monthly increase: {date[rev_delta.index(maxinc)]}, {maxinc}\")\n",
    "print(f\"Largest monthly decrease: {date[rev_delta.index(maxdec)]}, {maxdec}\")\n",
    "print()"
   ]
  },
  {
   "cell_type": "code",
   "execution_count": 554,
   "metadata": {},
   "outputs": [],
   "source": [
    "# 13) Set summary data output filepath to 'sd_path'\n",
    "sd_path = Path(\"output_data.csv\")\n",
    "# 14) Write summary data to file at 'sd_path'\n",
    "with open(sd_path, 'w') as file:\n",
    "    file.write(\"-----Summary Statistics-----\\n\")\n",
    "    file.write(f\"Number of months: {cnt}\\n\")\n",
    "    file.write(f\"Total P&L, all months: {tot}\\n\")\n",
    "    file.write(f\"Average monthly P&L: {round(avg,2)}\\n\")\n",
    "    file.write(f\"Largest monthly increase: {date[rev_delta.index(maxinc)]}, {maxinc}\\n\")\n",
    "    file.write(f\"Largest monthly decrease: {date[rev_delta.index(maxdec)]}, {maxdec}\\n\")\n",
    "    "
   ]
  },
  {
   "cell_type": "code",
   "execution_count": null,
   "metadata": {},
   "outputs": [],
   "source": []
  }
 ],
 "metadata": {
  "kernelspec": {
   "display_name": "Python 3",
   "language": "python",
   "name": "python3"
  },
  "language_info": {
   "codemirror_mode": {
    "name": "ipython",
    "version": 3
   },
   "file_extension": ".py",
   "mimetype": "text/x-python",
   "name": "python",
   "nbconvert_exporter": "python",
   "pygments_lexer": "ipython3",
   "version": "3.7.6"
  }
 },
 "nbformat": 4,
 "nbformat_minor": 4
}
