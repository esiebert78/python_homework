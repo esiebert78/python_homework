{
 "cells": [
  {
   "cell_type": "code",
   "execution_count": 73,
   "metadata": {},
   "outputs": [],
   "source": [
    "#Define filepath for source data file\n",
    "sdf = Path(\"C:/Users/erics/Desktop/FINTECH/python_homework/PyBank/budget_data.csv\")"
   ]
  },
  {
   "cell_type": "code",
   "execution_count": 79,
   "metadata": {},
   "outputs": [
    {
     "name": "stdout",
     "output_type": "stream",
     "text": [
      "Source data filepath clean\n",
      "budget_data.csv\n"
     ]
    }
   ],
   "source": [
    "#Validate source data file exists\n",
    "if not sdf.exists():\n",
    "    print(\"Source data filepath error\")\n",
    "else:\n",
    "    print(\"Source data filepath clean\")\n",
    "    print(sdf.name)"
   ]
  },
  {
   "cell_type": "code",
   "execution_count": 86,
   "metadata": {},
   "outputs": [
    {
     "name": "stdout",
     "output_type": "stream",
     "text": [
      "Date,Profit/Losses\n",
      "Jan-2010,867884\n",
      "Feb-2010,984655\n"
     ]
    }
   ],
   "source": [
    "#Open & read the source data file; show the first 50 characters for visual confirmation\n",
    "open_sdf = open(sdf.name, \"r\")\n",
    "print(open_sdf.read(50))\n",
    "#Not sure when I need to open/close the file yet, but when I do: open_sdf.close()"
   ]
  },
  {
   "cell_type": "code",
   "execution_count": 87,
   "metadata": {},
   "outputs": [],
   "source": [
    "#Create solution variable placeholders\n",
    "tot_mon = 0\n",
    "net_pl = 0.0\n",
    "avg_plD = 0.0\n",
    "mon_inc_dec = 0.0\n",
    "max_inc = 0.0\n",
    "max_dec = 0.0"
   ]
  },
  {
   "cell_type": "code",
   "execution_count": null,
   "metadata": {},
   "outputs": [],
   "source": []
  },
  {
   "cell_type": "code",
   "execution_count": null,
   "metadata": {},
   "outputs": [],
   "source": []
  },
  {
   "cell_type": "code",
   "execution_count": null,
   "metadata": {},
   "outputs": [],
   "source": []
  }
 ],
 "metadata": {
  "kernelspec": {
   "display_name": "Python 3",
   "language": "python",
   "name": "python3"
  },
  "language_info": {
   "codemirror_mode": {
    "name": "ipython",
    "version": 3
   },
   "file_extension": ".py",
   "mimetype": "text/x-python",
   "name": "python",
   "nbconvert_exporter": "python",
   "pygments_lexer": "ipython3",
   "version": "3.7.7"
  }
 },
 "nbformat": 4,
 "nbformat_minor": 4
}
